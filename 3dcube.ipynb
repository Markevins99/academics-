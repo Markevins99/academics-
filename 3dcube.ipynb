{
 "cells": [
  {
   "cell_type": "code",
   "execution_count": 54,
   "id": "267c7552",
   "metadata": {},
   "outputs": [],
   "source": [
    "information={1:{'sl no':[],'names':[],'sleeping habbit':[]},3:{'sl no':[],'names':[],'sleeping habbit':[]}}"
   ]
  },
  {
   "cell_type": "code",
   "execution_count": 57,
   "id": "4b12b306",
   "metadata": {},
   "outputs": [
    {
     "name": "stdout",
     "output_type": "stream",
     "text": [
      "input for sl no of 1st sem is:\n",
      "enter no of students 2\n",
      "1\n",
      "2\n",
      "input for sl no of 3rd sem is:\n",
      "enter no of students 1\n",
      "2\n"
     ]
    }
   ],
   "source": [
    "print(\"input for sl no of 1st sem is:\")\n",
    "information[1]['sl no'].clear()\n",
    "print('enter no of students',end=\" \")\n",
    "n=int(input())\n",
    "for i in range(0,n):\n",
    "    information[1][\"sl no\"].append(int(input()))\n",
    "print(\"input for sl no of 3rd sem is:\")\n",
    "information[3]['sl no'].clear()\n",
    "print('enter no of students',end=\" \")\n",
    "for i in range(0,n):\n",
    "    information[3][\"sl no\"].append(int(input()))\n",
    "    "
   ]
  },
  {
   "cell_type": "code",
   "execution_count": null,
   "id": "de2ed09b",
   "metadata": {},
   "outputs": [],
   "source": []
  },
  {
   "cell_type": "code",
   "execution_count": 59,
   "id": "945fb25e",
   "metadata": {},
   "outputs": [
    {
     "name": "stdout",
     "output_type": "stream",
     "text": [
      "input the names for 1st sem\n",
      "asd\n",
      "sd\n",
      "input the names for 3rd sem\n",
      "tert\n",
      "cxv\n"
     ]
    }
   ],
   "source": [
    "print('input the names for 1st sem')\n",
    "l1=[]\n",
    "information[1]['names'].clear()\n",
    "for i in range(0,n):\n",
    "    l1=str(input())\n",
    "    \n",
    "    information[1]['names'].append(l1)\n",
    "    \n",
    "print('input the names for 3rd sem')\n",
    "l2=[]\n",
    "information[1]['names'].clear()\n",
    "for i in range(0,n):\n",
    "    l2=str(input())\n",
    "   \n",
    "    information[1]['names'].append(l2)"
   ]
  },
  {
   "cell_type": "code",
   "execution_count": 61,
   "id": "db9fa7ee",
   "metadata": {},
   "outputs": [
    {
     "name": "stdout",
     "output_type": "stream",
     "text": [
      "input sleeping habbit\n",
      "early\n",
      "late\n",
      "input sleeping habbit\n",
      "late\n",
      "late\n"
     ]
    }
   ],
   "source": [
    "print('input sleeping habbit')\n",
    "l3=[]\n",
    "information[1]['sleeping habbit'].clear()\n",
    "for i in range(0,n):\n",
    "    l3=str(input())\n",
    "    information[1]['sleeping habbit'].append(l3)\n",
    "print('input sleeping habbit')\n",
    "l4=[]\n",
    "information[3]['sleeping habbit'].clear()\n",
    "for i in range(0,n):\n",
    "    l4=str(input())\n",
    "    information[3]['sleeping habbit'].append(l4)"
   ]
  },
  {
   "cell_type": "code",
   "execution_count": null,
   "id": "6166c5b0",
   "metadata": {},
   "outputs": [],
   "source": []
  },
  {
   "cell_type": "code",
   "execution_count": 66,
   "id": "4ec7c41b",
   "metadata": {},
   "outputs": [
    {
     "name": "stdout",
     "output_type": "stream",
     "text": [
      "the 3d cube is   \n",
      " 1 {'sl no': [1, 2], 'names': ['tert', 'cxv'], 'sleeping habbit': ['early', 'late']}\n",
      "3 {'sl no': [1, 2], 'names': [], 'sleeping habbit': ['late', 'late']}\n",
      "enter semester\n",
      "1\n",
      "enter sl no\n",
      "1\n",
      "find the sleping habbit of a student with sl no1\n",
      "the sleeping habbit of 1 is late\n"
     ]
    }
   ],
   "source": [
    "print('the 3d cube is',end='   \\n ')\n",
    "for key,value in information.items():\n",
    "    print(key,value)\n",
    "print('enter semester')\n",
    "sem=int(input())\n",
    "print(\"enter sl no\")\n",
    "y=int(input())\n",
    "print(f'find the sleping habbit of a student with sl no{y}')\n",
    "\n",
    "#indices start with zero be careful for 'y' habbits sl no starts with zero\n",
    "print(f\"the sleeping habbit of {y} is { information[sem]['sleeping habbit'][y] }\")"
   ]
  },
  {
   "cell_type": "code",
   "execution_count": 29,
   "id": "45ace3c2",
   "metadata": {},
   "outputs": [
    {
     "name": "stdout",
     "output_type": "stream",
     "text": [
      "sl no [1, 2]\n",
      "names ['er', 'vcx']\n",
      "sleeping habbit ['early']\n"
     ]
    }
   ],
   "source": [
    "for key,value in information[1].items():\n",
    "    print(key,value)"
   ]
  },
  {
   "cell_type": "code",
   "execution_count": null,
   "id": "36847b07",
   "metadata": {},
   "outputs": [],
   "source": []
  }
 ],
 "metadata": {
  "kernelspec": {
   "display_name": "Python 3 (ipykernel)",
   "language": "python",
   "name": "python3"
  },
  "language_info": {
   "codemirror_mode": {
    "name": "ipython",
    "version": 3
   },
   "file_extension": ".py",
   "mimetype": "text/x-python",
   "name": "python",
   "nbconvert_exporter": "python",
   "pygments_lexer": "ipython3",
   "version": "3.10.6"
  }
 },
 "nbformat": 4,
 "nbformat_minor": 5
}
